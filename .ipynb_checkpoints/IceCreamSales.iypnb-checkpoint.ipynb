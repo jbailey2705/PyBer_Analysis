{
 "cells": [
  {
   "cell_type": "code",
   "execution_count": 1,
   "id": "8acb2d0b",
   "metadata": {},
   "outputs": [],
   "source": [
    "%matplotlib notebook"
   ]
  },
  {
   "cell_type": "code",
   "execution_count": 2,
   "id": "68c3c729",
   "metadata": {},
   "outputs": [],
   "source": [
    "import matplotlib.pyplot as plt\n",
    "import numpy as np"
   ]
  },
  {
   "cell_type": "code",
   "execution_count": 3,
   "id": "657d4d81",
   "metadata": {},
   "outputs": [],
   "source": [
    "temp = [14.2, 16.4, 11.9, 15.2, 18.5, 22.1, 19.4, 25.1, 23.4, 18.1, 22.6, 17.2]\n",
    "sales = [215, 325, 185, 332, 406, 522, 412, 614, 544, 421, 445, 408]"
   ]
  },
  {
   "cell_type": "code",
   "execution_count": 4,
   "id": "a85079bf",
   "metadata": {},
   "outputs": [],
   "source": [
    "# Tell matplotlib to create a scatter plot based upon the above data\n",
    "\n",
    "plt.scatter('temp', 'sales' marker='o' facecolors='red', edgecolors='black')"
   ]
  },
  {
   "cell_type": "code",
   "execution_count": 5,
   "id": "50181c4c",
   "metadata": {},
   "outputs": [],
   "source": [
    "# Set the upper and lower limits of our y axis"
   ]
  },
  {
   "cell_type": "code",
   "execution_count": 6,
   "id": "c2f35673",
   "metadata": {},
   "outputs": [],
   "source": [
    "# Set the upper and lower limits of our x axis"
   ]
  },
  {
   "cell_type": "code",
   "execution_count": null,
   "id": "e51ac59c",
   "metadata": {},
   "outputs": [],
   "source": [
    "# Set the upper and lower limits of our x axis"
   ]
  },
  {
   "cell_type": "code",
   "execution_count": null,
   "id": "ed8dfb88",
   "metadata": {},
   "outputs": [],
   "source": [
    "# Save an image of the chart and print to screen\n",
    "# NOTE: If your plot shrinks after saving an image,\n",
    "# update matplotlib to 2.2 or higher,\n",
    "# or simply run the above cells again."
   ]
  }
 ],
 "metadata": {
  "kernelspec": {
   "display_name": "PythonData",
   "language": "python",
   "name": "pythondata"
  },
  "language_info": {
   "codemirror_mode": {
    "name": "ipython",
    "version": 3
   },
   "file_extension": ".py",
   "mimetype": "text/x-python",
   "name": "python",
   "nbconvert_exporter": "python",
   "pygments_lexer": "ipython3",
   "version": "3.9.12"
  }
 },
 "nbformat": 4,
 "nbformat_minor": 5
}
