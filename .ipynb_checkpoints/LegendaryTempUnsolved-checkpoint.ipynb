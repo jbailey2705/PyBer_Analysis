{
 "cells": [
  {
   "cell_type": "code",
   "execution_count": 14,
   "id": "220776a2",
   "metadata": {},
   "outputs": [],
   "source": [
    "%matplotlib notebook"
   ]
  },
  {
   "cell_type": "code",
   "execution_count": 15,
   "id": "16bcadcc",
   "metadata": {},
   "outputs": [],
   "source": [
    "import matplotlib.pyplot as plt\n",
    "import numpy as np"
   ]
  },
  {
   "cell_type": "code",
   "execution_count": 16,
   "id": "ebf3aabd",
   "metadata": {},
   "outputs": [],
   "source": [
    "# Create an array for the x axis for the numerical value of each month \n",
    "x_axis = ([1, 2, 3, 4, 5, 6, 7, 8, 9, 10, 11, 12])\n",
    "\n",
    "y_axis = [20, 30, 40, 50, 60, 70, 80]"
   ]
  },
  {
   "cell_type": "code",
   "execution_count": 17,
   "id": "f4c183f7",
   "metadata": {},
   "outputs": [],
   "source": [
    "# print the plot\n",
    "# plt.plot(x_axis, y_axis)"
   ]
  },
  {
   "cell_type": "code",
   "execution_count": 11,
   "id": "5731a829",
   "metadata": {},
   "outputs": [],
   "source": [
    "# Avearge high temperature for each month\n",
    "highs = [39, 42, 51, 62, 72, 82, 86, 84, 77, 65, 55, 44]"
   ]
  },
  {
   "cell_type": "code",
   "execution_count": 12,
   "id": "db66724a",
   "metadata": {},
   "outputs": [],
   "source": [
    "# Avearge low temperature for each month\n",
    "lows = [20, 22, 30, 40, 50, 60, 65, 63, 55, 42, 34, 25]"
   ]
  },
  {
   "cell_type": "code",
   "execution_count": 13,
   "id": "b3737869",
   "metadata": {},
   "outputs": [
    {
     "data": {
      "text/plain": [
       "Text(51.69444598754247, 0.5, 'Degress (°F')"
      ]
     },
     "execution_count": 13,
     "metadata": {},
     "output_type": "execute_result"
    }
   ],
   "source": [
    "# Plot both of these lines so that they will appear on our final chart.\n",
    "plt.plot(x_axis)\n",
    "\n",
    "# Create labels for the X and Y axis\n",
    "plt.xlabel('Months')\n",
    "plt.ylabel('Degress (°F')\n",
    "\n",
    "# Save and display the chart"
   ]
  },
  {
   "cell_type": "code",
   "execution_count": null,
   "id": "877bf8aa",
   "metadata": {},
   "outputs": [],
   "source": []
  }
 ],
 "metadata": {
  "kernelspec": {
   "display_name": "PythonData",
   "language": "python",
   "name": "pythondata"
  },
  "language_info": {
   "codemirror_mode": {
    "name": "ipython",
    "version": 3
   },
   "file_extension": ".py",
   "mimetype": "text/x-python",
   "name": "python",
   "nbconvert_exporter": "python",
   "pygments_lexer": "ipython3",
   "version": "3.9.12"
  }
 },
 "nbformat": 4,
 "nbformat_minor": 5
}
